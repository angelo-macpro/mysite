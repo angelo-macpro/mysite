{
 "cells": [
  {
   "cell_type": "code",
   "execution_count": null,
   "metadata": {
    "collapsed": true,
    "pycharm": {
     "is_executing": true
    }
   },
   "outputs": [],
   "source": [
    "import os\n",
    "import django\n",
    "import datetime\n",
    "import time\n",
    "import inspect\n",
    "import sys\n",
    "os.environ.setdefault(\n",
    "    \"DJANGO_SETTINGS_MODULE\",\n",
    "    \"mysite.settings\")  # project_name 项目名称\n",
    "django.setup()\n",
    "from collector import models, models_view\n",
    "import pymysql\n",
    "from openpyxl import load_workbook , Workbook\n",
    "from openpyxl.styles import PatternFill, Border, Side, Alignment, Protection, Font, colors\n",
    "import tkinter as tk\n",
    "from tkinter import filedialog\n",
    "from dateutil.relativedelta import relativedelta\n",
    "print('hello world')\n",
    "print(models.AccountBg.objects.all())\n"
   ]
  }
 ],
 "metadata": {
  "kernelspec": {
   "display_name": "Python 3",
   "language": "python",
   "name": "python3"
  },
  "language_info": {
   "codemirror_mode": {
    "name": "ipython",
    "version": 2
   },
   "file_extension": ".py",
   "mimetype": "text/x-python",
   "name": "python",
   "nbconvert_exporter": "python",
   "pygments_lexer": "ipython2",
   "version": "2.7.6"
  },
  "pycharm": {
   "stem_cell": {
    "cell_type": "raw",
    "source": [],
    "metadata": {
     "collapsed": false
    }
   }
  }
 },
 "nbformat": 4,
 "nbformat_minor": 0
}